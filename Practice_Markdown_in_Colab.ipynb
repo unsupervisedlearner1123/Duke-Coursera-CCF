{
  "nbformat": 4,
  "nbformat_minor": 0,
  "metadata": {
    "kernelspec": {
      "display_name": "Python 3",
      "language": "python",
      "name": "python3"
    },
    "language_info": {
      "codemirror_mode": {
        "name": "ipython",
        "version": 3
      },
      "file_extension": ".py",
      "mimetype": "text/x-python",
      "name": "python",
      "nbconvert_exporter": "python",
      "pygments_lexer": "ipython3",
      "version": "3.7.6"
    },
    "colab": {
      "name": "Practice-Markdown-in-Colab.ipynb",
      "provenance": [],
      "include_colab_link": true
    }
  },
  "cells": [
    {
      "cell_type": "markdown",
      "metadata": {
        "id": "view-in-github",
        "colab_type": "text"
      },
      "source": [
        "<a href=\"https://colab.research.google.com/github/unsupervisedlearner1123/Duke-Coursera-CCF/blob/main/Practice_Markdown_in_Colab.ipynb\" target=\"_parent\"><img src=\"https://colab.research.google.com/assets/colab-badge.svg\" alt=\"Open In Colab\"/></a>"
      ]
    },
    {
      "cell_type": "markdown",
      "metadata": {
        "id": "kxguJCtptY2Q"
      },
      "source": [
        "## Practice Markdown"
      ]
    },
    {
      "cell_type": "markdown",
      "metadata": {
        "id": "NBJJ4-ljtY2n"
      },
      "source": [
        "# This is a markdown"
      ]
    },
    {
      "cell_type": "markdown",
      "metadata": {
        "id": "gDB0DTx3tY2r"
      },
      "source": [
        "## This is a sample heading 2\n",
        "\n",
        "I have listed the link to the **website** of *Duke University* below! \n",
        "\n",
        "You can check it [here](https://duke.edu/)\n",
        "\n",
        "There are various courses offered at the following levels:\n",
        "1. Undergraduate\n",
        "1. Graduate\n",
        "    1. MIDS\n",
        "    1. MEM\n",
        "1. PhD"
      ]
    },
    {
      "cell_type": "markdown",
      "metadata": {
        "id": "TuOGvIIctY2u"
      },
      "source": [
        "Just an example of blockquotes:\n",
        "\n",
        ">This is\n",
        ">DUKE!"
      ]
    },
    {
      "cell_type": "markdown",
      "metadata": {
        "id": "KG9Sry6xtY2x"
      },
      "source": [
        "This is an example of using `<code>` inline"
      ]
    },
    {
      "cell_type": "markdown",
      "metadata": {
        "id": "cYRf-1lutY20"
      },
      "source": [
        "#### This is an example of Python code with syntax highlights - \n",
        "```python\n",
        "def hey():\n",
        "    print(\"Hello World!)\n",
        "# Function call\n",
        "hey()\n",
        "```"
      ]
    },
    {
      "cell_type": "markdown",
      "metadata": {
        "id": "Z7rSfOSAtY23"
      },
      "source": [
        "##### This is an example of sample heading 5\n",
        "##### An example of task list below\n",
        "\n",
        "- [x] @mention did abc \n",
        "- [x] @mention2 did xyz\n",
        "- [ ] @mention3 yet to do foo\n",
        "- [ ] @mention4 bar in progress"
      ]
    },
    {
      "cell_type": "markdown",
      "metadata": {
        "id": "8AJkHuPhtY2_"
      },
      "source": [
        "### This is an example of a table\n",
        "\n",
        "First Col | Second Col\n",
        "--------- | ----------\n",
        "Content row1, col1 | Content row1, col2\n",
        "Content row2, col1 | Content row2, col2"
      ]
    },
    {
      "cell_type": "code",
      "metadata": {
        "id": "U1WS4c7dtY3C"
      },
      "source": [
        ""
      ],
      "execution_count": null,
      "outputs": []
    }
  ]
}